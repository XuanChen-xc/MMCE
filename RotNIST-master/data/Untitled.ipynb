{
 "cells": [
  {
   "cell_type": "code",
   "execution_count": 2,
   "metadata": {},
   "outputs": [],
   "source": [
    "import numpy as np\n",
    "import matplotlib.pyplot as plt"
   ]
  },
  {
   "cell_type": "code",
   "execution_count": 9,
   "metadata": {},
   "outputs": [],
   "source": [
    "trainx = np.load('train_x_60.npy')"
   ]
  },
  {
   "cell_type": "code",
   "execution_count": 10,
   "metadata": {},
   "outputs": [],
   "source": [
    "trainy = np.load('train_y_60.npy')"
   ]
  },
  {
   "cell_type": "code",
   "execution_count": 11,
   "metadata": {},
   "outputs": [
    {
     "name": "stdout",
     "output_type": "stream",
     "text": [
      "(60000, 28, 28)\n"
     ]
    }
   ],
   "source": [
    "print(trainx.shape)"
   ]
  },
  {
   "cell_type": "code",
   "execution_count": 16,
   "metadata": {},
   "outputs": [
    {
     "data": {
      "text/plain": [
       "<matplotlib.image.AxesImage at 0x11f2efef0>"
      ]
     },
     "execution_count": 16,
     "metadata": {},
     "output_type": "execute_result"
    },
    {
     "data": {
      "image/png": "[encoded data removed]",
      "text/plain": [
       "<Figure size 432x288 with 1 Axes>"
      ]
     },
     "metadata": {
      "needs_background": "light"
     },
     "output_type": "display_data"
    }
   ],
   "source": [
    "plt.imshow(trainx[2])"
   ]
  },
  {
   "cell_type": "code",
   "execution_count": 32,
   "metadata": {},
   "outputs": [
    {
     "name": "stdout",
     "output_type": "stream",
     "text": [
      "[3 5 3 6 1 7 2 8 6 9]\n"
     ]
    }
   ],
   "source": [
    "print(trainy[10:20])"
   ]
  },
  {
   "cell_type": "code",
   "execution_count": 26,
   "metadata": {},
   "outputs": [],
   "source": [
    "rot60_probs = np.load('/Users/xuanchen/Desktop/adversarial/MMCE/mmce_rot60_probs.npy')"
   ]
  },
  {
   "cell_type": "code",
   "execution_count": 35,
   "metadata": {},
   "outputs": [
    {
     "name": "stdout",
     "output_type": "stream",
     "text": [
      "(60000, 10)\n",
      "[[5.70856537e-05 1.17654717e-02 1.45856908e-03 8.35777760e-01\n",
      "  6.78268843e-04 1.29025996e-01 4.86133824e-04 1.29158795e-02\n",
      "  2.28220830e-03 5.55267511e-03]\n",
      " [3.82689323e-04 4.07105424e-02 3.48812464e-04 1.32177934e-01\n",
      "  1.18985143e-03 7.60355890e-01 5.61050922e-02 5.19475841e-04\n",
      "  8.07751715e-03 1.32250614e-04]]\n"
     ]
    }
   ],
   "source": [
    "print(rot60_probs.shape)\n",
    "print(rot60_probs[10:12])"
   ]
  },
  {
   "cell_type": "code",
   "execution_count": 28,
   "metadata": {},
   "outputs": [],
   "source": [
    "labels = np.argmax(rot60_probs, axis = 1)"
   ]
  },
  {
   "cell_type": "code",
   "execution_count": 29,
   "metadata": {},
   "outputs": [
    {
     "name": "stdout",
     "output_type": "stream",
     "text": [
      "(60000,)\n"
     ]
    }
   ],
   "source": [
    "print(labels.shape)"
   ]
  },
  {
   "cell_type": "code",
   "execution_count": 31,
   "metadata": {},
   "outputs": [
    {
     "name": "stdout",
     "output_type": "stream",
     "text": [
      "[3 5 5 4 2 5 7 4 6 9]\n"
     ]
    }
   ],
   "source": [
    "print(labels[10:20])"
   ]
  },
  {
   "cell_type": "code",
   "execution_count": 23,
   "metadata": {},
   "outputs": [],
   "source": [
    "def compute_accuracies_at_confidences(labels, probs, thresholds):\n",
    "    \"\"\"Compute accuracy of samples above each confidence threshold.\n",
    "    Args:\n",
    "    labels: Array of integer categorical labels.\n",
    "    probs: Array of categorical probabilities.\n",
    "    thresholds: Array of floating point probability thresholds in [0, 1).\n",
    "    Returns:\n",
    "    accuracies: Array of accuracies over examples with confidence > T for each T\n",
    "        in thresholds.\n",
    "    counts: Count of examples with confidence > T for each T in thresholds.\n",
    "    \"\"\"\n",
    "    assert probs.shape[:-1] == labels.shape\n",
    "\n",
    "    predict_class = probs.argmax(-1)\n",
    "    predict_confidence = probs.max(-1)\n",
    "\n",
    "    shape = (len(thresholds),) + probs.shape[:-2]\n",
    "    accuracies = np.zeros(shape)\n",
    "    counts = np.zeros(shape)\n",
    "\n",
    "    eq = np.equal(predict_class, labels)\n",
    "    for i, thresh in enumerate(thresholds):\n",
    "        mask = predict_confidence >= thresh\n",
    "        counts[i] = mask.sum(-1)\n",
    "        accuracies[i] = np.ma.masked_array(eq, mask=~mask).mean(-1)\n",
    "    return accuracies, counts"
   ]
  },
  {
   "cell_type": "code",
   "execution_count": 24,
   "metadata": {},
   "outputs": [],
   "source": [
    "accuracies, counts = compute_accuracies_at_confidences(trainy, rot60_probs, [0.1,0.2,0.3,0.4,0.5,0.6,0.7,0.8,0.9])"
   ]
  },
  {
   "cell_type": "code",
   "execution_count": 25,
   "metadata": {},
   "outputs": [
    {
     "name": "stdout",
     "output_type": "stream",
     "text": [
      "[0.25933333 0.25951829 0.26398276 0.27330622 0.28424917 0.29583946\n",
      " 0.30720286 0.32054257 0.33252119] [60000. 59911. 57553. 50405. 40855. 31943. 24046. 16809.  9440.]\n"
     ]
    }
   ],
   "source": [
    "print(accuracies, counts)"
   ]
  },
  {
   "cell_type": "code",
   "execution_count": null,
   "metadata": {},
   "outputs": [],
   "source": []
  }
 ],
 "metadata": {
  "kernelspec": {
   "display_name": "Python 3",
   "language": "python",
   "name": "python3"
  },
  "language_info": {
   "codemirror_mode": {
    "name": "ipython",
    "version": 3
   },
   "file_extension": ".py",
   "mimetype": "text/x-python",
   "name": "python",
   "nbconvert_exporter": "python",
   "pygments_lexer": "ipython3",
   "version": "3.7.3"
  }
 },
 "nbformat": 4,
 "nbformat_minor": 2
}
